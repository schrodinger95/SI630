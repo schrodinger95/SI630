{
 "cells": [
  {
   "cell_type": "code",
   "execution_count": 18,
   "metadata": {},
   "outputs": [],
   "source": [
    "import pandas as pd\n",
    "import numpy as np\n",
    "import re\n",
    "import csv\n",
    "from collections import defaultdict\n",
    "from collections import Counter\n",
    "from scipy import sparse\n",
    "import matplotlib.pyplot as plt"
   ]
  },
  {
   "cell_type": "code",
   "execution_count": 2,
   "metadata": {},
   "outputs": [],
   "source": [
    "word_re = r'\\b[a-zA-Z]+\\b'\n",
    "number_re = r'\\b[0-9]+\\b'\n",
    "email_re = r'\\b[A-Za-z0-9._%+-]+@[A-Za-z0-9.-]+\\.[A-Z|a-z]{2,}\\b'\n",
    "url_re = r'\\b(https?:\\/\\/(?:www\\.|(?!www))[a-zA-Z0-9][a-zA-Z0-9-]+[a-zA-Z0-9]\\.[^\\s]{2,}|www\\.[a-zA-Z0-9][a-zA-Z0-9-]+[a-zA-Z0-9]\\.[^\\s]{2,}|https?:\\/\\/(?:www\\.|(?!www))[a-zA-Z0-9]+\\.[^\\s]{2,}|www\\.[a-zA-Z0-9]+\\.[^\\s]{2,})\\b'"
   ]
  },
  {
   "cell_type": "code",
   "execution_count": 4,
   "metadata": {},
   "outputs": [
    {
     "data": {
      "text/html": [
       "<div>\n",
       "<style scoped>\n",
       "    .dataframe tbody tr th:only-of-type {\n",
       "        vertical-align: middle;\n",
       "    }\n",
       "\n",
       "    .dataframe tbody tr th {\n",
       "        vertical-align: top;\n",
       "    }\n",
       "\n",
       "    .dataframe thead th {\n",
       "        text-align: right;\n",
       "    }\n",
       "</style>\n",
       "<table border=\"1\" class=\"dataframe\">\n",
       "  <thead>\n",
       "    <tr style=\"text-align: right;\">\n",
       "      <th></th>\n",
       "      <th>party_affiliation</th>\n",
       "      <th>email_text</th>\n",
       "      <th>uid_email</th>\n",
       "    </tr>\n",
       "  </thead>\n",
       "  <tbody>\n",
       "    <tr>\n",
       "      <th>0</th>\n",
       "      <td>Democratic Party</td>\n",
       "      <td>⋱⋱⋱⋱⋱⋱⋱⋱⋱⋱⋱⋱⋱⋱⋱⋱⋱⋱⋱⋱⋱⋱⋱⋱⋱⋱⋱⋱⋱⋱⋱⋱⋱⋱⋱⋱⋱⋱⋱⋱⋱⋱⋱⋱⋱⋱...</td>\n",
       "      <td>3083493a6b205eabd8d0f1e7772db09b</td>\n",
       "    </tr>\n",
       "    <tr>\n",
       "      <th>1</th>\n",
       "      <td>Democratic Party</td>\n",
       "      <td>This new report needs your attention now. \\n  ...</td>\n",
       "      <td>3a583e28c820e1fac8902e4df0ef50e0</td>\n",
       "    </tr>\n",
       "    <tr>\n",
       "      <th>2</th>\n",
       "      <td>Democratic Party</td>\n",
       "      <td>&lt;PARTY&gt; &lt;ORG&gt; &lt;ORG&gt; &lt;ORG&gt; \\n &lt;&gt; NEWS \\n  &lt;PERS...</td>\n",
       "      <td>044219f46cca419d1d95242dfe036c15</td>\n",
       "    </tr>\n",
       "    <tr>\n",
       "      <th>3</th>\n",
       "      <td>Democratic Party</td>\n",
       "      <td>Chip in today to &lt;GPE&gt; to our virtual grassroo...</td>\n",
       "      <td>68059dd1d93d0cbf456763822d1ab680</td>\n",
       "    </tr>\n",
       "    <tr>\n",
       "      <th>4</th>\n",
       "      <td>Democratic Party</td>\n",
       "      <td>I ’m really sorry to bother you but I ’m not o...</td>\n",
       "      <td>9f41a878e2839dc013546e615da83efa</td>\n",
       "    </tr>\n",
       "  </tbody>\n",
       "</table>\n",
       "</div>"
      ],
      "text/plain": [
       "  party_affiliation                                         email_text  \\\n",
       "0  Democratic Party  ⋱⋱⋱⋱⋱⋱⋱⋱⋱⋱⋱⋱⋱⋱⋱⋱⋱⋱⋱⋱⋱⋱⋱⋱⋱⋱⋱⋱⋱⋱⋱⋱⋱⋱⋱⋱⋱⋱⋱⋱⋱⋱⋱⋱⋱⋱...   \n",
       "1  Democratic Party  This new report needs your attention now. \\n  ...   \n",
       "2  Democratic Party  <PARTY> <ORG> <ORG> <ORG> \\n <> NEWS \\n  <PERS...   \n",
       "3  Democratic Party  Chip in today to <GPE> to our virtual grassroo...   \n",
       "4  Democratic Party  I ’m really sorry to bother you but I ’m not o...   \n",
       "\n",
       "                          uid_email  \n",
       "0  3083493a6b205eabd8d0f1e7772db09b  \n",
       "1  3a583e28c820e1fac8902e4df0ef50e0  \n",
       "2  044219f46cca419d1d95242dfe036c15  \n",
       "3  68059dd1d93d0cbf456763822d1ab680  \n",
       "4  9f41a878e2839dc013546e615da83efa  "
      ]
     },
     "execution_count": 4,
     "metadata": {},
     "output_type": "execute_result"
    }
   ],
   "source": [
    "train = pd.read_csv('train.csv')\n",
    "train.head()"
   ]
  },
  {
   "cell_type": "code",
   "execution_count": 5,
   "metadata": {},
   "outputs": [],
   "source": [
    "def tokenize(text):\n",
    "    tokens = text.split()\n",
    "    return tokens"
   ]
  },
  {
   "cell_type": "code",
   "execution_count": 6,
   "metadata": {},
   "outputs": [],
   "source": [
    "stop_words = []\n",
    "with open('stop_words.txt', 'rb') as txt:\n",
    "    lines = txt.readlines()\n",
    "    stop_words = [str(lines[i], 'utf-8', 'ignore').replace('\\n', '') for i in range(len(lines))]"
   ]
  },
  {
   "cell_type": "code",
   "execution_count": 7,
   "metadata": {},
   "outputs": [],
   "source": [
    "def better_tokenize(text):\n",
    "    tokens = []\n",
    "    words = text.split()\n",
    "    for word in words:\n",
    "        number = re.search(number_re, word)\n",
    "        email = re.search(email_re, word)\n",
    "        url = re.search(url_re, word)\n",
    "        if number or email or url:\n",
    "            continue\n",
    "\n",
    "        match = re.findall(word_re, word)\n",
    "        if match:\n",
    "            token = match[0].lower()\n",
    "            if len(token) == 1 or token in stop_words:\n",
    "                continue\n",
    "\n",
    "            tokens.append(token)\n",
    "    return tokens"
   ]
  },
  {
   "cell_type": "code",
   "execution_count": 8,
   "metadata": {},
   "outputs": [],
   "source": [
    "dict = defaultdict(int)\n",
    "for index, row in train.iterrows():   \n",
    "    tokens = better_tokenize(row[1])\n",
    "    for token in tokens:\n",
    "        dict[token] += 1"
   ]
  },
  {
   "cell_type": "code",
   "execution_count": 9,
   "metadata": {},
   "outputs": [],
   "source": [
    "word_list = []\n",
    "for key in dict:\n",
    "    if dict[key] > 9:\n",
    "        word_list.append(key)"
   ]
  },
  {
   "cell_type": "code",
   "execution_count": 10,
   "metadata": {},
   "outputs": [],
   "source": [
    "row_ind = []\n",
    "col_ind = []\n",
    "data = []\n",
    "for index, row in train.iterrows():\n",
    "    tokens = better_tokenize(row[1])\n",
    "    counter = Counter(tokens)\n",
    "    for key in counter:\n",
    "        if key in word_list:\n",
    "            row_ind.append(index)\n",
    "            col_ind.append(word_list.index(key))\n",
    "            data.append(counter[key])"
   ]
  },
  {
   "cell_type": "code",
   "execution_count": 11,
   "metadata": {},
   "outputs": [],
   "source": [
    "for index, row in train.iterrows():\n",
    "    row_ind.append(index)\n",
    "    col_ind.append(len(word_list))\n",
    "    data.append(1)"
   ]
  },
  {
   "cell_type": "code",
   "execution_count": 12,
   "metadata": {},
   "outputs": [],
   "source": [
    "mat_coo = sparse.coo_matrix((data, (row_ind, col_ind)))\n",
    "mat_csc = mat_coo.tocsc() # Xs"
   ]
  },
  {
   "cell_type": "code",
   "execution_count": 13,
   "metadata": {},
   "outputs": [],
   "source": [
    "y_data = []\n",
    "y_row_ind = []\n",
    "y_col_ind = []\n",
    "for index, row in train.iterrows():\n",
    "    y_row_ind.append(index)\n",
    "    y_col_ind.append(0)\n",
    "    if (row[0] == \"Democratic Party\"):\n",
    "        y_data.append(0)\n",
    "    else:\n",
    "        y_data.append(1)\n",
    "y_coo = sparse.coo_matrix((y_data, (y_row_ind, y_col_ind)))\n",
    "ys = y_coo.tocsc()"
   ]
  },
  {
   "cell_type": "code",
   "execution_count": 14,
   "metadata": {},
   "outputs": [],
   "source": [
    "def sigmoid(xi, betas):\n",
    "    return 1 / (1 + np.exp(-np.sum(xi * betas)))"
   ]
  },
  {
   "cell_type": "code",
   "execution_count": 15,
   "metadata": {},
   "outputs": [],
   "source": [
    "def log_likelihood(ys, xs, betas):\n",
    "    return np.sum(((ys.transpose()) * (xs * betas))) - np.sum(np.log(1 + np.exp((xs * betas).toarray())))"
   ]
  },
  {
   "cell_type": "code",
   "execution_count": 16,
   "metadata": {},
   "outputs": [],
   "source": [
    "def compute_gradient(yi, xi, betas):\n",
    "    return (sigmoid(xi, betas) - np.sum(yi)) * xi.transpose()"
   ]
  },
  {
   "cell_type": "code",
   "execution_count": 19,
   "metadata": {},
   "outputs": [],
   "source": [
    "def logistic_regrssion(likelihood, betas, ys, xs, learning_rate, num_step):\n",
    "    likelihood.append(log_likelihood(ys, xs, betas))\n",
    "    for i in range(num_step):\n",
    "        betas = betas - learning_rate * compute_gradient(ys[i], xs[i], betas)\n",
    "        if (i + 1) % 100 == 0:\n",
    "            likelihood.append(log_likelihood(ys, xs, betas))\n",
    "            print(log_likelihood(ys, xs, betas))\n",
    "    return betas"
   ]
  },
  {
   "cell_type": "code",
   "execution_count": 20,
   "metadata": {},
   "outputs": [
    {
     "name": "stdout",
     "output_type": "stream",
     "text": [
      "-35116.111319956115\n",
      "-33533.00406110851\n",
      "-32405.96625174861\n",
      "-31854.96191752349\n",
      "-31533.91739641488\n",
      "-31239.595327156036\n",
      "-31013.48028603598\n",
      "-30883.506410979353\n",
      "-30715.636900868536\n",
      "-30607.37757770734\n"
     ]
    }
   ],
   "source": [
    "beta_data = np.array([0] * mat_csc.shape[1])\n",
    "beta_row_ind = np.array(range(max(col_ind)+1))\n",
    "beta_col_ind = np.array([0] * (max(col_ind)+1))\n",
    "beta_coo = sparse.coo_matrix((beta_data, (beta_row_ind, beta_col_ind)))\n",
    "betas = beta_coo.tocsc() # Betas\n",
    "\n",
    "num_epochs = 1\n",
    "likelihood = []\n",
    "\n",
    "for i in range(num_epochs):\n",
    "    betas = logistic_regrssion(likelihood, betas, ys, mat_csc, 5e-5, 1000)"
   ]
  },
  {
   "cell_type": "code",
   "execution_count": 44,
   "metadata": {},
   "outputs": [
    {
     "data": {
      "image/png": "[encoded data removed]",
      "text/plain": [
       "<Figure size 432x288 with 1 Axes>"
      ]
     },
     "metadata": {
      "needs_background": "light"
     },
     "output_type": "display_data"
    }
   ],
   "source": [
    "plt.plot([100*i for i in range(11)], likelihood)\n",
    "plt.ylabel('Log Likelihood')\n",
    "plt.savefig('Log Likelihood.png', dpi=100, bbox_inches='tight')\n",
    "plt.show()"
   ]
  },
  {
   "cell_type": "code",
   "execution_count": 25,
   "metadata": {},
   "outputs": [],
   "source": [
    "with open('betas.txt', 'w') as txt:\n",
    "    beta_list = betas.transpose().toarray().tolist()[0]\n",
    "    txt.writelines([str(beta) + '\\n' for beta in beta_list])"
   ]
  },
  {
   "cell_type": "code",
   "execution_count": 26,
   "metadata": {},
   "outputs": [],
   "source": [
    "with open('final_betas.txt', 'r') as txt:\n",
    "    lines = txt.readlines()\n",
    "    beta_data = []\n",
    "    for line in lines:\n",
    "        line = line.replace('\\n', '')\n",
    "        beta_data.append(float(line))\n",
    "\n",
    "beta_row_ind = np.array(range(max(col_ind)+1))\n",
    "beta_col_ind = np.array([0] * (max(col_ind)+1))\n",
    "beta_coo = sparse.coo_matrix((beta_data, (beta_row_ind, beta_col_ind)))\n",
    "betas = beta_coo.tocsc() # Betas"
   ]
  },
  {
   "cell_type": "code",
   "execution_count": 27,
   "metadata": {},
   "outputs": [
    {
     "data": {
      "text/html": [
       "<div>\n",
       "<style scoped>\n",
       "    .dataframe tbody tr th:only-of-type {\n",
       "        vertical-align: middle;\n",
       "    }\n",
       "\n",
       "    .dataframe tbody tr th {\n",
       "        vertical-align: top;\n",
       "    }\n",
       "\n",
       "    .dataframe thead th {\n",
       "        text-align: right;\n",
       "    }\n",
       "</style>\n",
       "<table border=\"1\" class=\"dataframe\">\n",
       "  <thead>\n",
       "    <tr style=\"text-align: right;\">\n",
       "      <th></th>\n",
       "      <th>email_text</th>\n",
       "      <th>uid_email</th>\n",
       "    </tr>\n",
       "  </thead>\n",
       "  <tbody>\n",
       "    <tr>\n",
       "      <th>0</th>\n",
       "      <td>20,000 &lt;GPE&gt; &lt;GPE&gt; signatures needed \\n 20,000...</td>\n",
       "      <td>5dfbe09ce5b500dd3dcb9f93c8fb185f</td>\n",
       "    </tr>\n",
       "    <tr>\n",
       "      <th>1</th>\n",
       "      <td>We 've worked way too hard and given way too m...</td>\n",
       "      <td>07e48f4183b98420a18503791fb412f6</td>\n",
       "    </tr>\n",
       "    <tr>\n",
       "      <th>2</th>\n",
       "      <td>If you use your 800%-MATCH \\n  &lt;&gt; \\n &lt;ORG&gt; &lt;OR...</td>\n",
       "      <td>b58c8607d96a414db0e9cc10108c35f5</td>\n",
       "    </tr>\n",
       "    <tr>\n",
       "      <th>3</th>\n",
       "      <td>&lt;PERSON&gt;, a proposal for Vote- by- &lt;&gt; threaten...</td>\n",
       "      <td>3901d9539d69ada89e5c82e2f1ca950d</td>\n",
       "    </tr>\n",
       "    <tr>\n",
       "      <th>4</th>\n",
       "      <td>The &lt;ORG&gt; &lt;ORG&gt; &lt;ORG&gt; is under immediate threa...</td>\n",
       "      <td>6a3e8e6f31381e84a34571deee0f1238</td>\n",
       "    </tr>\n",
       "  </tbody>\n",
       "</table>\n",
       "</div>"
      ],
      "text/plain": [
       "                                          email_text  \\\n",
       "0  20,000 <GPE> <GPE> signatures needed \\n 20,000...   \n",
       "1  We 've worked way too hard and given way too m...   \n",
       "2  If you use your 800%-MATCH \\n  <> \\n <ORG> <OR...   \n",
       "3  <PERSON>, a proposal for Vote- by- <> threaten...   \n",
       "4  The <ORG> <ORG> <ORG> is under immediate threa...   \n",
       "\n",
       "                          uid_email  \n",
       "0  5dfbe09ce5b500dd3dcb9f93c8fb185f  \n",
       "1  07e48f4183b98420a18503791fb412f6  \n",
       "2  b58c8607d96a414db0e9cc10108c35f5  \n",
       "3  3901d9539d69ada89e5c82e2f1ca950d  \n",
       "4  6a3e8e6f31381e84a34571deee0f1238  "
      ]
     },
     "execution_count": 27,
     "metadata": {},
     "output_type": "execute_result"
    }
   ],
   "source": [
    "test = pd.read_csv('test.csv')\n",
    "test.head()"
   ]
  },
  {
   "cell_type": "code",
   "execution_count": 28,
   "metadata": {},
   "outputs": [],
   "source": [
    "test_row_ind = []\n",
    "test_col_ind = []\n",
    "test_data = []\n",
    "uid = []\n",
    "for index, row in test.iterrows():\n",
    "    uid.append(row[1])\n",
    "    tokens = better_tokenize(row[0])\n",
    "    counter = Counter(tokens)\n",
    "    for key in counter:\n",
    "        if key in word_list:\n",
    "            test_row_ind.append(index)\n",
    "            test_col_ind.append(word_list.index(key))\n",
    "            test_data.append(counter[key])"
   ]
  },
  {
   "cell_type": "code",
   "execution_count": 29,
   "metadata": {},
   "outputs": [],
   "source": [
    "for index, row in test.iterrows():\n",
    "    test_row_ind.append(index)\n",
    "    test_col_ind.append(len(word_list))\n",
    "    test_data.append(1)"
   ]
  },
  {
   "cell_type": "code",
   "execution_count": 30,
   "metadata": {},
   "outputs": [],
   "source": [
    "test_mat_coo = sparse.coo_matrix((test_data, (test_row_ind, test_col_ind)))\n",
    "test_mat_csc = test_mat_coo.tocsc()"
   ]
  },
  {
   "cell_type": "code",
   "execution_count": 31,
   "metadata": {},
   "outputs": [],
   "source": [
    "def sigmoidAll(xs, betas):\n",
    "    result = -xs*betas\n",
    "    np.exp(result.data, out=result.data)\n",
    "    result.data += 1\n",
    "    result.data = 1 / result.data\n",
    "    result.data\n",
    "    return result"
   ]
  },
  {
   "cell_type": "code",
   "execution_count": 32,
   "metadata": {},
   "outputs": [],
   "source": [
    "def predict(xs, betas):\n",
    "    return (sigmoidAll(xs, betas)).toarray()"
   ]
  },
  {
   "cell_type": "code",
   "execution_count": 33,
   "metadata": {},
   "outputs": [],
   "source": [
    "pred = predict(test_mat_csc, betas)"
   ]
  },
  {
   "cell_type": "code",
   "execution_count": 34,
   "metadata": {},
   "outputs": [],
   "source": [
    "with open('pred.csv', 'w', newline='') as csvfile:\n",
    "    csvwriter = csv.writer(csvfile, quoting=csv.QUOTE_MINIMAL)\n",
    "    csvwriter.writerow(['uid_email', 'party_affiliation'])\n",
    "    for i in range(len(pred)):\n",
    "        if np.sum(pred[i]) < 0.5:\n",
    "            csvwriter.writerow([uid[i], 'Democratic Party'])\n",
    "        else:\n",
    "            csvwriter.writerow([uid[i], 'Republican Party'])"
   ]
  },
  {
   "cell_type": "code",
   "execution_count": 35,
   "metadata": {},
   "outputs": [
    {
     "data": {
      "text/html": [
       "<div>\n",
       "<style scoped>\n",
       "    .dataframe tbody tr th:only-of-type {\n",
       "        vertical-align: middle;\n",
       "    }\n",
       "\n",
       "    .dataframe tbody tr th {\n",
       "        vertical-align: top;\n",
       "    }\n",
       "\n",
       "    .dataframe thead th {\n",
       "        text-align: right;\n",
       "    }\n",
       "</style>\n",
       "<table border=\"1\" class=\"dataframe\">\n",
       "  <thead>\n",
       "    <tr style=\"text-align: right;\">\n",
       "      <th></th>\n",
       "      <th>party_affiliation</th>\n",
       "      <th>email_text</th>\n",
       "      <th>uid_email</th>\n",
       "    </tr>\n",
       "  </thead>\n",
       "  <tbody>\n",
       "    <tr>\n",
       "      <th>0</th>\n",
       "      <td>Democratic Party</td>\n",
       "      <td>&lt;&gt; &lt;&gt;, \\n &lt;DATE&gt;, &lt;&gt; &lt;PERSON&gt; &lt;PERSON&gt; suspend...</td>\n",
       "      <td>64241625785edfde727dd84c08e5cda2</td>\n",
       "    </tr>\n",
       "    <tr>\n",
       "      <th>1</th>\n",
       "      <td>Democratic Party</td>\n",
       "      <td>We simply could not run our campaign without o...</td>\n",
       "      <td>d005af10b61a2565704c237fd506b5e9</td>\n",
       "    </tr>\n",
       "    <tr>\n",
       "      <th>2</th>\n",
       "      <td>Democratic Party</td>\n",
       "      <td>I have to give &lt;&gt; &lt;&gt; &lt;PERSON&gt; and the team an ...</td>\n",
       "      <td>75088c6211cca345172d18aab778b93c</td>\n",
       "    </tr>\n",
       "    <tr>\n",
       "      <th>3</th>\n",
       "      <td>Democratic Party</td>\n",
       "      <td>Here ’s your challenge: Can we raise $ 10,000 ...</td>\n",
       "      <td>b56badd20bd35485b7197587333283d1</td>\n",
       "    </tr>\n",
       "    <tr>\n",
       "      <th>4</th>\n",
       "      <td>Democratic Party</td>\n",
       "      <td>This week, I and more than 30 of my colleagues...</td>\n",
       "      <td>f60dc5576465f00970e35e36e57e9f1e</td>\n",
       "    </tr>\n",
       "  </tbody>\n",
       "</table>\n",
       "</div>"
      ],
      "text/plain": [
       "  party_affiliation                                         email_text  \\\n",
       "0  Democratic Party  <> <>, \\n <DATE>, <> <PERSON> <PERSON> suspend...   \n",
       "1  Democratic Party  We simply could not run our campaign without o...   \n",
       "2  Democratic Party  I have to give <> <> <PERSON> and the team an ...   \n",
       "3  Democratic Party  Here ’s your challenge: Can we raise $ 10,000 ...   \n",
       "4  Democratic Party  This week, I and more than 30 of my colleagues...   \n",
       "\n",
       "                          uid_email  \n",
       "0  64241625785edfde727dd84c08e5cda2  \n",
       "1  d005af10b61a2565704c237fd506b5e9  \n",
       "2  75088c6211cca345172d18aab778b93c  \n",
       "3  b56badd20bd35485b7197587333283d1  \n",
       "4  f60dc5576465f00970e35e36e57e9f1e  "
      ]
     },
     "execution_count": 35,
     "metadata": {},
     "output_type": "execute_result"
    }
   ],
   "source": [
    "dev = pd.read_csv('dev.csv')\n",
    "dev.head()"
   ]
  },
  {
   "cell_type": "code",
   "execution_count": 36,
   "metadata": {},
   "outputs": [],
   "source": [
    "dev_row_ind = []\n",
    "dev_col_ind = []\n",
    "dev_data = []\n",
    "for index, row in dev.iterrows():\n",
    "    tokens = better_tokenize(row[1])\n",
    "    counter = Counter(tokens)\n",
    "    for key in counter:\n",
    "        if key in word_list:\n",
    "            dev_row_ind.append(index)\n",
    "            dev_col_ind.append(word_list.index(key))\n",
    "            dev_data.append(counter[key])"
   ]
  },
  {
   "cell_type": "code",
   "execution_count": 37,
   "metadata": {},
   "outputs": [],
   "source": [
    "for index, row in dev.iterrows():\n",
    "    dev_row_ind.append(index)\n",
    "    dev_col_ind.append(len(word_list))\n",
    "    dev_data.append(1)"
   ]
  },
  {
   "cell_type": "code",
   "execution_count": 38,
   "metadata": {},
   "outputs": [],
   "source": [
    "dev_mat_coo = sparse.coo_matrix((dev_data, (dev_row_ind, dev_col_ind)))\n",
    "dev_mat_csc = dev_mat_coo.tocsc()"
   ]
  },
  {
   "cell_type": "code",
   "execution_count": 39,
   "metadata": {},
   "outputs": [],
   "source": [
    "y_dev_data = []\n",
    "y_dev_row_ind = []\n",
    "y_dev_col_ind = []\n",
    "for index, row in dev.iterrows():\n",
    "    y_dev_row_ind.append(index)\n",
    "    y_dev_col_ind.append(0)\n",
    "    if (row[0] == \"Democratic Party\"):\n",
    "        y_dev_data.append(0)\n",
    "    else:\n",
    "        y_dev_data.append(1)\n",
    "y_dev_coo = sparse.coo_matrix((y_dev_data, (y_dev_row_ind, y_dev_col_ind)))\n",
    "ys_dev = y_dev_coo.tocsc()"
   ]
  },
  {
   "cell_type": "code",
   "execution_count": 55,
   "metadata": {},
   "outputs": [],
   "source": [
    "def eval(ys, xs, betas):\n",
    "     y_pred = predict(xs, betas)\n",
    "     y_pred_class = y_pred.round()\n",
    "\n",
    "     precision = np.sum((y_pred_class + ys) == 0) / np.sum(y_pred_class == 0)\n",
    "     recall = np.sum((y_pred_class + ys) == 0) / np.sum(ys == 0)\n",
    "     F1_score = 2 * (precision * recall) / (precision + recall)\n",
    "\n",
    "     return F1_score"
   ]
  },
  {
   "cell_type": "code",
   "execution_count": 56,
   "metadata": {},
   "outputs": [
    {
     "name": "stdout",
     "output_type": "stream",
     "text": [
      "0.9793986636971046\n"
     ]
    },
    {
     "name": "stderr",
     "output_type": "stream",
     "text": [
      "/var/folders/f4/0fh9x3t17c14d2qv0ttjr7_w0000gn/T/ipykernel_83704/2719947209.py:1: SparseEfficiencyWarning: Comparing a sparse matrix with 0 using == is inefficient, try using != instead.\n",
      "  print(eval(ys_dev, dev_mat_csc, betas))\n"
     ]
    }
   ],
   "source": [
    "print(eval(ys_dev, dev_mat_csc, betas))"
   ]
  }
 ],
 "metadata": {
  "interpreter": {
   "hash": "cf8760ee32878e5ca5efd2b9f19028809ae23abbdcbcaf8f42f2362f9f5b2e66"
  },
  "kernelspec": {
   "display_name": "Python 3.8.5 64-bit ('base': conda)",
   "language": "python",
   "name": "python3"
  },
  "language_info": {
   "codemirror_mode": {
    "name": "ipython",
    "version": 3
   },
   "file_extension": ".py",
   "mimetype": "text/x-python",
   "name": "python",
   "nbconvert_exporter": "python",
   "pygments_lexer": "ipython3",
   "version": "3.8.5"
  },
  "orig_nbformat": 4
 },
 "nbformat": 4,
 "nbformat_minor": 2
}
